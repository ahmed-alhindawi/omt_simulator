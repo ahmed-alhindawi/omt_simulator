{
 "cells": [
  {
   "cell_type": "code",
   "execution_count": 60,
   "id": "6679144b",
   "metadata": {},
   "outputs": [],
   "source": [
    "import h5py\n",
    "import numpy as np\n",
    "import polars as pl\n",
    "import plotnine as p9\n",
    "from scipy.signal import convolve\n",
    "from tqdm.notebook import tqdm\n",
    "from scipy.fft import fft, fftfreq, ifft\n",
    "from scipy import signal\n",
    "from pathlib import Path\n",
    "from ipywidgets import widgets as widgets\n",
    "from IPython.display import display"
   ]
  },
  {
   "cell_type": "code",
   "execution_count": 61,
   "id": "b23720a1",
   "metadata": {},
   "outputs": [
    {
     "name": "stdout",
     "output_type": "stream",
     "text": [
      "4 datasets found\n"
     ]
    }
   ],
   "source": [
    "# load the dataset one at a time and calculate the metrics per window_size\n",
    "anaesthesia_datasets = list(Path(\"/datasets/octave/\").glob(\"anaesthetic*.hdf5\"))\n",
    "print(len(anaesthesia_datasets), \"datasets found\")"
   ]
  },
  {
   "cell_type": "code",
   "execution_count": 84,
   "id": "ebe07ef7",
   "metadata": {},
   "outputs": [],
   "source": [
    "fs = 4800\n",
    "notch_freqs = np.arange(50, 1000, 50)  # Frequencies to notch out (50 Hz, 100 Hz, 150 Hz)\n",
    "filter_order = 4\n",
    "low_freqs = 30\n",
    "high_freqs = 150\n",
    "downsample_factor = 1\n",
    "window_size = 1  # in seconds"
   ]
  },
  {
   "cell_type": "code",
   "execution_count": 100,
   "id": "10f746f1",
   "metadata": {},
   "outputs": [
    {
     "name": "stdout",
     "output_type": "stream",
     "text": [
      "Using dataset /datasets/octave/anaesthetic_s03_2024.08.21_15.55.08.hdf5\n"
     ]
    }
   ],
   "source": [
    "# as an example, we will use the first dataset\n",
    "df_path = anaesthesia_datasets[1]\n",
    "print(f\"Using dataset {df_path}\")"
   ]
  },
  {
   "cell_type": "code",
   "execution_count": 101,
   "id": "8232e799",
   "metadata": {},
   "outputs": [],
   "source": [
    "with h5py.File(df_path, 'r') as f:\n",
    "    raw_data = f['RawData/Samples'][()].T\n"
   ]
  },
  {
   "cell_type": "code",
   "execution_count": 102,
   "id": "c9001398",
   "metadata": {},
   "outputs": [
    {
     "data": {
      "text/plain": [
       "'n_windows=547, (2, 2628864), len(data)=2, window_size_samples=4800,'"
      ]
     },
     "execution_count": 102,
     "metadata": {},
     "output_type": "execute_result"
    }
   ],
   "source": [
    "data = raw_data.copy()\n",
    "for notch_freq in notch_freqs:\n",
    "    b, a = signal.iirnotch(notch_freq, 30, fs)\n",
    "    data = signal.filtfilt(b, a, data)\n",
    "    \n",
    "# apply a bandpass filter\n",
    "sos = signal.butter(filter_order, [low_freqs, high_freqs], fs=fs, btype='bandpass', analog=False, output=\"sos\")\n",
    "data = signal.sosfilt(sos, data)\n",
    "\n",
    "data = signal.decimate(data, downsample_factor, axis=1)\n",
    "\n",
    "fs_ds = fs / downsample_factor  # Adjusted sampling frequency\n",
    "signal_length = data.shape[1]\n",
    "window_size_samples = int(window_size * fs_ds)\n",
    "window_starts = np.arange(0, signal_length - window_size_samples, window_size_samples)\n",
    "n_windows = len(window_starts)\n",
    "\n",
    "f\"{n_windows=}, {data.shape}, {len(data)=}, {window_size_samples=},\""
   ]
  },
  {
   "cell_type": "code",
   "execution_count": 103,
   "id": "678ffbf6",
   "metadata": {},
   "outputs": [],
   "source": [
    "def twitch_kernel(t, tau, alpha=1.0):\n",
    "    return alpha * t * np.exp(-t / tau)\n",
    "\n",
    "def normalised_twitch_kernel(t, tau):\n",
    "    kernel = twitch_kernel(t, tau)\n",
    "    kernel /= np.sqrt(np.sum(kernel**2) * (t[1] - t[0]))  # Normalization\n",
    "    return kernel"
   ]
  },
  {
   "cell_type": "code",
   "execution_count": 104,
   "id": "892cda78",
   "metadata": {},
   "outputs": [],
   "source": [
    "def calculate_spike_freq(windowed_data, fs=4800, tikhonov_lambda=1e-4, tau=0.01):\n",
    "    n_fft = 2**int(np.ceil(np.log2(len(windowed_data))))\n",
    "    windowed_data = np.pad(windowed_data, (0, n_fft - len(windowed_data)))\n",
    "\n",
    "\n",
    "    t_kernel = np.arange(0, 0.05, 1/fs)\n",
    "    kernel = normalised_twitch_kernel(t_kernel, tau)\n",
    "    # kernel /= np.sum(kernel) * (1/fs)\n",
    "    omt_signal = windowed_data.flatten()\n",
    "    kernel_padded = np.zeros_like(omt_signal)\n",
    "    kernel_padded[:len(kernel)] = kernel\n",
    "    Y = fft(omt_signal)\n",
    "    H = fft(kernel_padded)\n",
    "    H_conj = np.conj(H)\n",
    "    S_hat_tikhonov = (H_conj / (H_conj * H + tikhonov_lambda)) * Y\n",
    "    s_deconv_tikhonov = np.real(np.fft.ifft(S_hat_tikhonov))\n",
    "    s_deconv_tikhonov -= s_deconv_tikhonov.mean()\n",
    "\n",
    "\n",
    "    N_samples = len(omt_signal)\n",
    "    freqs = fftfreq(N_samples, d=1/fs)[:N_samples//2]\n",
    "    S_deconv_fft = np.abs(fft(s_deconv_tikhonov))[:N_samples//2]\n",
    "    power_spectrum = S_deconv_fft**2\n",
    "\n",
    "    # Limit the frequency range between 20 Hz and 150 Hz\n",
    "    freq_min = 20\n",
    "    freq_max = 150\n",
    "    mask = (freqs >= freq_min) & (freqs <= freq_max)\n",
    "    freqs_limited = freqs[mask]\n",
    "    power_spectrum_limited = power_spectrum[mask]\n",
    "\n",
    "    pl_df = pl.DataFrame({\n",
    "        \"frequency\": freqs_limited,\n",
    "        \"power\": power_spectrum_limited,\n",
    "    })\n",
    "\n",
    "    fig = (\n",
    "        p9.ggplot(pl_df, p9.aes(x=\"frequency\", y=\"power\")) +\n",
    "        p9.geom_line(color='orange') +\n",
    "        # p9.facet_wrap(\"type\", ncol=1, scales=\"free_y\") +\n",
    "        p9.labs(x=\"Frequency (Hz)\", y=r\"$\\text{Log}_{10}$ Power\") +\n",
    "        # p9.scale_y_continuous(breaks=np.linspace(0, 4, 4)) +\n",
    "        # p9.scale_y_log10(labels=lambda x: [fr\"{int(np.log10(v))}\" for v in x]) +\n",
    "        p9.scale_x_continuous(breaks=np.arange(0, freq_max, 20)) +\n",
    "        p9.coord_cartesian(xlim=(20, 150), ylim=(1e-1, 1e4)) +\n",
    "        p9.theme_matplotlib() +\n",
    "        p9.theme(figure_size=(3.5, 2.0), dpi=100, text=p9.element_text(size=8))\n",
    "    )\n",
    "\n",
    "    return fig, pl_df"
   ]
  },
  {
   "cell_type": "code",
   "execution_count": null,
   "id": "a5189020",
   "metadata": {},
   "outputs": [
    {
     "data": {
      "application/vnd.jupyter.widget-view+json": {
       "model_id": "9cfbde91834b4e6383c4361d4f3b13e3",
       "version_major": 2,
       "version_minor": 0
      },
      "text/plain": [
       "VBox(children=(HBox(children=(Play(value=0, description='Press play', max=546), IntSlider(value=0, continuous_…"
      ]
     },
     "metadata": {},
     "output_type": "display_data"
    }
   ],
   "source": [
    "\n",
    "# Define the function that updates the plot\n",
    "def update_plot(index, tau=0.01):\n",
    "    window_start = window_starts[index]\n",
    "    window_data = data[:, window_start:window_start + window_size_samples]\n",
    "    fig, pl_df = calculate_spike_freq(window_data, fs=fs_ds, tau=tau, tikhonov_lambda=1e-4)\n",
    "    fig.show()\n",
    "\n",
    "# Slider\n",
    "window_start_widget = widgets.IntSlider(\n",
    "    value=0,\n",
    "    min=0,\n",
    "    max=len(window_starts) - 1,\n",
    "    step=1,\n",
    "    description='Window:',\n",
    "    continuous_update=False\n",
    ")\n",
    "\n",
    "tau_widget = widgets.FloatSlider(\n",
    "    value=0.01,\n",
    "    min=0.001,\n",
    "    max=0.1,\n",
    "    step=0.001,\n",
    "    description='Tau:',\n",
    "    continuous_update=False\n",
    ")\n",
    "\n",
    "# Play button (updates every 1000 ms = 1 second)\n",
    "play = widgets.Play(\n",
    "    value=0,\n",
    "    min=0,\n",
    "    max=len(window_starts) - 1,\n",
    "    step=1,\n",
    "    interval=100,  # milliseconds\n",
    "    description=\"Press play\",\n",
    "    disabled=False\n",
    ")\n",
    "\n",
    "# Link play button to slider\n",
    "widgets.jslink((play, 'value'), (window_start_widget, 'value'))\n",
    "\n",
    "# Link function to slider\n",
    "out = widgets.interactive_output(update_plot, {'index': window_start_widget, 'tau': tau_widget})\n",
    "\n",
    "# Display everything together\n",
    "controls = widgets.HBox([play, window_start_widget, tau_widget])\n",
    "display(widgets.VBox([controls, out]))\n"
   ]
  },
  {
   "cell_type": "code",
   "execution_count": null,
   "id": "f5c7a4a1",
   "metadata": {},
   "outputs": [],
   "source": []
  }
 ],
 "metadata": {
  "kernelspec": {
   "display_name": "venv",
   "language": "python",
   "name": "python3"
  },
  "language_info": {
   "codemirror_mode": {
    "name": "ipython",
    "version": 3
   },
   "file_extension": ".py",
   "mimetype": "text/x-python",
   "name": "python",
   "nbconvert_exporter": "python",
   "pygments_lexer": "ipython3",
   "version": "3.12.3"
  }
 },
 "nbformat": 4,
 "nbformat_minor": 5
}
